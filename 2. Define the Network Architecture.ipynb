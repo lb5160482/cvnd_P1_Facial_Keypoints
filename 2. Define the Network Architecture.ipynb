{
 "cells": [
  {
   "cell_type": "markdown",
   "metadata": {},
   "source": [
    "## Define the Convolutional Neural Network\n",
    "\n",
    "After you've looked at the data you're working with and, in this case, know the shapes of the images and of the keypoints, you are ready to define a convolutional neural network that can *learn* from this data.\n",
    "\n",
    "In this notebook and in `models.py`, you will:\n",
    "1. Define a CNN with images as input and keypoints as output\n",
    "2. Construct the transformed FaceKeypointsDataset, just as before\n",
    "3. Train the CNN on the training data, tracking loss\n",
    "4. See how the trained model performs on test data\n",
    "5. If necessary, modify the CNN structure and model hyperparameters, so that it performs *well* **\\***\n",
    "\n",
    "**\\*** What does *well* mean?\n",
    "\n",
    "\"Well\" means that the model's loss decreases during training **and**, when applied to test image data, the model produces keypoints that closely match the true keypoints of each face. And you'll see examples of this later in the notebook.\n",
    "\n",
    "---\n"
   ]
  },
  {
   "cell_type": "markdown",
   "metadata": {},
   "source": [
    "## CNN Architecture\n",
    "\n",
    "Recall that CNN's are defined by a few types of layers:\n",
    "* Convolutional layers\n",
    "* Maxpooling layers\n",
    "* Fully-connected layers\n",
    "\n",
    "You are required to use the above layers and encouraged to add multiple convolutional layers and things like dropout layers that may prevent overfitting. You are also encouraged to look at literature on keypoint detection, such as [this paper](https://arxiv.org/pdf/1710.00977.pdf), to help you determine the structure of your network.\n",
    "\n",
    "\n",
    "### TODO: Define your model in the provided file `models.py` file\n",
    "\n",
    "This file is mostly empty but contains the expected name and some TODO's for creating your model.\n",
    "\n",
    "---"
   ]
  },
  {
   "cell_type": "markdown",
   "metadata": {},
   "source": [
    "## PyTorch Neural Nets\n",
    "\n",
    "To define a neural network in PyTorch, you define the layers of a model in the function `__init__` and define the feedforward behavior of a network that employs those initialized layers in the function `forward`, which takes in an input image tensor, `x`. The structure of this Net class is shown below and left for you to fill in.\n",
    "\n",
    "Note: During training, PyTorch will be able to perform backpropagation by keeping track of the network's feedforward behavior and using autograd to calculate the update to the weights in the network.\n",
    "\n",
    "#### Define the Layers in ` __init__`\n",
    "As a reminder, a conv/pool layer may be defined like this (in `__init__`):\n",
    "```\n",
    "# 1 input image channel (for grayscale images), 32 output channels/feature maps, 3x3 square convolution kernel\n",
    "self.conv1 = nn.Conv2d(1, 32, 3)\n",
    "\n",
    "# maxpool that uses a square window of kernel_size=2, stride=2\n",
    "self.pool = nn.MaxPool2d(2, 2)      \n",
    "```\n",
    "\n",
    "#### Refer to Layers in `forward`\n",
    "Then referred to in the `forward` function like this, in which the conv1 layer has a ReLu activation applied to it before maxpooling is applied:\n",
    "```\n",
    "x = self.pool(F.relu(self.conv1(x)))\n",
    "```\n",
    "\n",
    "Best practice is to place any layers whose weights will change during the training process in `__init__` and refer to them in the `forward` function; any layers or functions that always behave in the same way, such as a pre-defined activation function, should appear *only* in the `forward` function."
   ]
  },
  {
   "cell_type": "markdown",
   "metadata": {},
   "source": [
    "#### Why models.py\n",
    "\n",
    "You are tasked with defining the network in the `models.py` file so that any models you define can be saved and loaded by name in different notebooks in this project directory. For example, by defining a CNN class called `Net` in `models.py`, you can then create that same architecture in this and other notebooks by simply importing the class and instantiating a model:\n",
    "```\n",
    "    from models import Net\n",
    "    net = Net()\n",
    "```"
   ]
  },
  {
   "cell_type": "code",
   "execution_count": 1,
   "metadata": {},
   "outputs": [],
   "source": [
    "# import the usual resources\n",
    "import matplotlib.pyplot as plt\n",
    "import numpy as np\n",
    "\n",
    "# watch for any changes in model.py, if it changes, re-load it automatically\n",
    "%load_ext autoreload\n",
    "%autoreload 2"
   ]
  },
  {
   "cell_type": "code",
   "execution_count": 2,
   "metadata": {
    "scrolled": true
   },
   "outputs": [
    {
     "name": "stdout",
     "output_type": "stream",
     "text": [
      "Net(\n",
      "  (conv1): Conv2d(1, 32, kernel_size=(5, 5), stride=(1, 1))\n",
      "  (conv1_bn): BatchNorm2d(32, eps=1e-05, momentum=0.1, affine=True, track_running_stats=True)\n",
      "  (pool): MaxPool2d(kernel_size=2, stride=2, padding=0, dilation=1, ceil_mode=False)\n",
      "  (dropout1): Dropout(p=0.1)\n",
      "  (conv2): Conv2d(32, 64, kernel_size=(5, 5), stride=(1, 1))\n",
      "  (conv2_bn): BatchNorm2d(64, eps=1e-05, momentum=0.1, affine=True, track_running_stats=True)\n",
      "  (dropout2): Dropout(p=0.2)\n",
      "  (conv3): Conv2d(64, 128, kernel_size=(5, 5), stride=(1, 1))\n",
      "  (conv3_bn): BatchNorm2d(128, eps=1e-05, momentum=0.1, affine=True, track_running_stats=True)\n",
      "  (dropout3): Dropout(p=0.2)\n",
      "  (conv4): Conv2d(128, 256, kernel_size=(5, 5), stride=(1, 1))\n",
      "  (conv4_bn): BatchNorm2d(256, eps=1e-05, momentum=0.1, affine=True, track_running_stats=True)\n",
      "  (dropout4): Dropout(p=0.2)\n",
      "  (fc1): Linear(in_features=25600, out_features=2000, bias=True)\n",
      "  (dropout6): Dropout(p=0.5)\n",
      "  (fc2): Linear(in_features=2000, out_features=136, bias=True)\n",
      "  (dropout7): Dropout(p=0.2)\n",
      ")\n"
     ]
    }
   ],
   "source": [
    "## TODO: Define the Net in models.py\n",
    "\n",
    "import torch\n",
    "import torch.nn as nn\n",
    "import torch.nn.functional as F\n",
    "\n",
    "## TODO: Once you've define the network, you can instantiate it\n",
    "# one example conv layer has been provided for you\n",
    "from models_1 import Net\n",
    " \n",
    "net = Net()\n",
    "print(net)\n",
    "net = net.cuda()"
   ]
  },
  {
   "cell_type": "code",
   "execution_count": 3,
   "metadata": {},
   "outputs": [
    {
     "name": "stdout",
     "output_type": "stream",
     "text": [
      "cuda:0\n"
     ]
    }
   ],
   "source": [
    "device = torch.device(\"cuda:0\" if torch.cuda.is_available() else \"cpu\")\n",
    "print(device)\n",
    "# net = net.to(device)\n",
    "# net = net.cuda()\n",
    "# print(net)"
   ]
  },
  {
   "cell_type": "markdown",
   "metadata": {
    "collapsed": true
   },
   "source": [
    "## Transform the dataset \n",
    "\n",
    "To prepare for training, create a transformed dataset of images and keypoints.\n",
    "\n",
    "### TODO: Define a data transform\n",
    "\n",
    "In PyTorch, a convolutional neural network expects a torch image of a consistent size as input. For efficient training, and so your model's loss does not blow up during training, it is also suggested that you normalize the input images and keypoints. The necessary transforms have been defined in `data_load.py` and you **do not** need to modify these; take a look at this file (you'll see the same transforms that were defined and applied in Notebook 1).\n",
    "\n",
    "To define the data transform below, use a [composition](http://pytorch.org/tutorials/beginner/data_loading_tutorial.html#compose-transforms) of:\n",
    "1. Rescaling and/or cropping the data, such that you are left with a square image (the suggested size is 224x224px)\n",
    "2. Normalizing the images and keypoints; turning each RGB image into a grayscale image with a color range of [0, 1] and transforming the given keypoints into a range of [-1, 1]\n",
    "3. Turning these images and keypoints into Tensors\n",
    "\n",
    "These transformations have been defined in `data_load.py`, but it's up to you to call them and create a `data_transform` below. **This transform will be applied to the training data and, later, the test data**. It will change how you go about displaying these images and keypoints, but these steps are essential for efficient training.\n",
    "\n",
    "As a note, should you want to perform data augmentation (which is optional in this project), and randomly rotate or shift these images, a square image size will be useful; rotating a 224x224 image by 90 degrees will result in the same shape of output."
   ]
  },
  {
   "cell_type": "code",
   "execution_count": 4,
   "metadata": {},
   "outputs": [],
   "source": [
    "from torch.utils.data import Dataset, DataLoader\n",
    "from torchvision import transforms, utils\n",
    "\n",
    "# the dataset we created in Notebook 1 is copied in the helper file `data_load.py`\n",
    "from data_load import FacialKeypointsDataset\n",
    "# the transforms we defined in Notebook 1 are in the helper file `data_load.py`\n",
    "from data_load import Rescale, RandomCrop, Normalize, ToTensor\n",
    "\n",
    "\n",
    "## TODO: define the data_transform using transforms.Compose([all tx's, . , .])\n",
    "# order matters! i.e. rescaling should come before a smaller crop\n",
    "data_transform = transforms.Compose([Rescale(250),\n",
    "                                    RandomCrop(224),\n",
    "                                    Normalize(),\n",
    "                                    ToTensor()])\n",
    "\n",
    "# testing that you've defined a transform\n",
    "assert(data_transform is not None), 'Define a data_transform'"
   ]
  },
  {
   "cell_type": "code",
   "execution_count": 5,
   "metadata": {},
   "outputs": [
    {
     "name": "stdout",
     "output_type": "stream",
     "text": [
      "Number of images:  3462\n",
      "0 torch.Size([1, 224, 224]) torch.Size([68, 2])\n",
      "1 torch.Size([1, 224, 224]) torch.Size([68, 2])\n",
      "2 torch.Size([1, 224, 224]) torch.Size([68, 2])\n",
      "3 torch.Size([1, 224, 224]) torch.Size([68, 2])\n"
     ]
    }
   ],
   "source": [
    "# create the transformed dataset\n",
    "transformed_dataset = FacialKeypointsDataset(csv_file='data/training_frames_keypoints.csv',\n",
    "                                             root_dir='data/training/',\n",
    "                                             transform=data_transform)\n",
    "\n",
    "\n",
    "print('Number of images: ', len(transformed_dataset))\n",
    "\n",
    "# iterate through the transformed data  set and print some stats about the first few samples\n",
    "for i in range(4):\n",
    "    sample = transformed_dataset[i]\n",
    "    print(i, sample['image'].size(), sample['keypoints'].size())"
   ]
  },
  {
   "cell_type": "markdown",
   "metadata": {},
   "source": [
    "## Batching and loading data\n",
    "\n",
    "Next, having defined the transformed dataset, we can use PyTorch's DataLoader class to load the training data in batches of whatever size as well as to shuffle the data for training the model. You can read more about the parameters of the DataLoader, in [this documentation](http://pytorch.org/docs/master/data.html).\n",
    "\n",
    "#### Batch size\n",
    "Decide on a good batch size for training your model. Try both small and large batch sizes and note how the loss decreases as the model trains.\n",
    "\n",
    "**Note for Windows users**: Please change the `num_workers` to 0 or you may face some issues with your DataLoader failing."
   ]
  },
  {
   "cell_type": "code",
   "execution_count": 6,
   "metadata": {},
   "outputs": [],
   "source": [
    "# load training data in batches\n",
    "batch_size = 10\n",
    "\n",
    "train_loader = DataLoader(transformed_dataset, \n",
    "                          batch_size=batch_size,\n",
    "                          shuffle=True, \n",
    "                          num_workers=4)\n"
   ]
  },
  {
   "cell_type": "markdown",
   "metadata": {},
   "source": [
    "## Before training\n",
    "\n",
    "Take a look at how this model performs before it trains. You should see that the keypoints it predicts start off in one spot and don't match the keypoints on a face at all! It's interesting to visualize this behavior so that you can compare it to the model after training and see how the model has improved.\n",
    "\n",
    "#### Load in the test dataset\n",
    "\n",
    "The test dataset is one that this model has *not* seen before, meaning it has not trained with these images. We'll load in this test data and before and after training, see how your model performs on this set!\n",
    "\n",
    "To visualize this test data, we have to go through some un-transformation steps to turn our images into python images from tensors and to turn our keypoints back into a recognizable range. "
   ]
  },
  {
   "cell_type": "code",
   "execution_count": 7,
   "metadata": {},
   "outputs": [],
   "source": [
    "# load in the test data, using the dataset class\n",
    "# AND apply the data_transform you defined above\n",
    "\n",
    "# create the test dataset\n",
    "test_dataset = FacialKeypointsDataset(csv_file='data/test_frames_keypoints.csv',\n",
    "                                             root_dir='data/test/',\n",
    "                                             transform=data_transform)\n",
    "\n"
   ]
  },
  {
   "cell_type": "code",
   "execution_count": 8,
   "metadata": {},
   "outputs": [],
   "source": [
    "# load test data in batches\n",
    "batch_size = 10\n",
    "\n",
    "test_loader = DataLoader(test_dataset, \n",
    "                          batch_size=batch_size,\n",
    "                          shuffle=True, \n",
    "                          num_workers=4)"
   ]
  },
  {
   "cell_type": "markdown",
   "metadata": {},
   "source": [
    "## Apply the model on a test sample\n",
    "\n",
    "To test the model on a test sample of data, you have to follow these steps:\n",
    "1. Extract the image and ground truth keypoints from a sample\n",
    "2. Make sure the image is a FloatTensor, which the model expects.\n",
    "3. Forward pass the image through the net to get the predicted, output keypoints.\n",
    "\n",
    "This function test how the network performs on the first batch of test data. It returns the images, the transformed images, the predicted keypoints (produced by the model), and the ground truth keypoints."
   ]
  },
  {
   "cell_type": "code",
   "execution_count": 9,
   "metadata": {},
   "outputs": [],
   "source": [
    "# test the model on a batch of test images\n",
    "\n",
    "def net_sample_output():\n",
    "    \n",
    "    # iterate through the test dataset\n",
    "    for i, sample in enumerate(test_loader):\n",
    "        \n",
    "        # get sample data: images and ground truth keypoints\n",
    "        images = sample['image']\n",
    "        key_pts = sample['keypoints']\n",
    "        \n",
    "        images = images.cuda()\n",
    "        key_pts = key_pts.cuda()\n",
    "\n",
    "        # convert images to FloatTensors\n",
    "        images = images.type(torch.cuda.FloatTensor)\n",
    "        \n",
    "\n",
    "        # forward pass to get net output\n",
    "        output_pts = net(images)\n",
    "        \n",
    "        # reshape to batch_size x 68 x 2 pts\n",
    "        output_pts = output_pts.view(output_pts.size()[0], 68, -1)\n",
    "        \n",
    "        # break after first image is tested\n",
    "        if i == 0:\n",
    "            return images, output_pts, key_pts\n",
    "            "
   ]
  },
  {
   "cell_type": "markdown",
   "metadata": {},
   "source": [
    "#### Debugging tips\n",
    "\n",
    "If you get a size or dimension error here, make sure that your network outputs the expected number of keypoints! Or if you get a Tensor type error, look into changing the above code that casts the data into float types: `images = images.type(torch.FloatTensor)`."
   ]
  },
  {
   "cell_type": "code",
   "execution_count": 10,
   "metadata": {},
   "outputs": [
    {
     "name": "stdout",
     "output_type": "stream",
     "text": [
      "torch.Size([10, 1, 224, 224])\n",
      "torch.Size([10, 68, 2])\n",
      "torch.Size([10, 68, 2])\n"
     ]
    }
   ],
   "source": [
    "# call the above function\n",
    "# returns: test images, test predicted keypoints, test ground truth keypoints\n",
    "test_images, test_outputs, gt_pts = net_sample_output()\n",
    "\n",
    "# print out the dimensions of the data to see if they make sense\n",
    "print(test_images.data.size())\n",
    "print(test_outputs.data.size())\n",
    "print(gt_pts.size())"
   ]
  },
  {
   "cell_type": "markdown",
   "metadata": {},
   "source": [
    "## Visualize the predicted keypoints\n",
    "\n",
    "Once we've had the model produce some predicted output keypoints, we can visualize these points in a way that's similar to how we've displayed this data before, only this time, we have to \"un-transform\" the image/keypoint data to display it.\n",
    "\n",
    "Note that I've defined a *new* function, `show_all_keypoints` that displays a grayscale image, its predicted keypoints and its ground truth keypoints (if provided)."
   ]
  },
  {
   "cell_type": "code",
   "execution_count": 11,
   "metadata": {},
   "outputs": [],
   "source": [
    "def show_all_keypoints(image, predicted_key_pts, gt_pts=None):\n",
    "    \"\"\"Show image with predicted keypoints\"\"\"\n",
    "    # image is grayscale\n",
    "    plt.imshow(image, cmap='gray')\n",
    "    plt.scatter(predicted_key_pts[:, 0], predicted_key_pts[:, 1], s=20, marker='.', c='m')\n",
    "    # plot ground truth points as green pts\n",
    "    if gt_pts is not None:\n",
    "        plt.scatter(gt_pts[:, 0], gt_pts[:, 1], s=20, marker='.', c='g')\n"
   ]
  },
  {
   "cell_type": "markdown",
   "metadata": {},
   "source": [
    "#### Un-transformation\n",
    "\n",
    "Next, you'll see a helper function. `visualize_output` that takes in a batch of images, predicted keypoints, and ground truth keypoints and displays a set of those images and their true/predicted keypoints.\n",
    "\n",
    "This function's main role is to take batches of image and keypoint data (the input and output of your CNN), and transform them into numpy images and un-normalized keypoints (x, y) for normal display. The un-transformation process turns keypoints and images into numpy arrays from Tensors *and* it undoes the keypoint normalization done in the Normalize() transform; it's assumed that you applied these transformations when you loaded your test data."
   ]
  },
  {
   "cell_type": "code",
   "execution_count": 12,
   "metadata": {},
   "outputs": [
    {
     "data": {
      "image/png": "[encoded data removed]",
      "text/plain": [
       "<matplotlib.figure.Figure at 0x7f51cd1a6978>"
      ]
     },
     "metadata": {},
     "output_type": "display_data"
    },
    {
     "data": {
      "image/png": "[encoded data removed]",
      "text/plain": [
       "<matplotlib.figure.Figure at 0x7f51cd17d898>"
      ]
     },
     "metadata": {},
     "output_type": "display_data"
    },
    {
     "data": {
      "image/png": "[encoded data removed]",
      "text/plain": [
       "<matplotlib.figure.Figure at 0x7f51cd0d4940>"
      ]
     },
     "metadata": {},
     "output_type": "display_data"
    },
    {
     "data": {
      "image/png": "[encoded data removed]",
      "text/plain": [
       "<matplotlib.figure.Figure at 0x7f51cd096e80>"
      ]
     },
     "metadata": {},
     "output_type": "display_data"
    },
    {
     "data": {
      "image/png": "[encoded data removed]",
      "text/plain": [
       "<matplotlib.figure.Figure at 0x7f51cd05e0f0>"
      ]
     },
     "metadata": {},
     "output_type": "display_data"
    },
    {
     "data": {
      "image/png": "[encoded data removed]",
      "text/plain": [
       "<matplotlib.figure.Figure at 0x7f51cd015e80>"
      ]
     },
     "metadata": {},
     "output_type": "display_data"
    },
    {
     "data": {
      "image/png": "[encoded data removed]",
      "text/plain": [
       "<matplotlib.figure.Figure at 0x7f51ccfd9b38>"
      ]
     },
     "metadata": {},
     "output_type": "display_data"
    },
    {
     "data": {
      "image/png": "[encoded data removed]",
      "text/plain": [
       "<matplotlib.figure.Figure at 0x7f51ccfa4630>"
      ]
     },
     "metadata": {},
     "output_type": "display_data"
    },
    {
     "data": {
      "image/png": "[encoded data removed]",
      "text/plain": [
       "<matplotlib.figure.Figure at 0x7f51ccf5f160>"
      ]
     },
     "metadata": {},
     "output_type": "display_data"
    },
    {
     "data": {
      "image/png": "[encoded data removed]",
      "text/plain": [
       "<matplotlib.figure.Figure at 0x7f51ccf235c0>"
      ]
     },
     "metadata": {},
     "output_type": "display_data"
    }
   ],
   "source": [
    "# visualize the output\n",
    "# by default this shows a batch of 10 images\n",
    "def visualize_output(test_images, test_outputs, gt_pts=None, batch_size=10):\n",
    "\n",
    "    for i in range(batch_size):\n",
    "        plt.figure(figsize=(20,10))\n",
    "        ax = plt.subplot(1, batch_size, i+1)\n",
    "\n",
    "        # un-transform the image data\n",
    "        image = test_images[i].data   # get the image from it's wrapper\n",
    "#         image = image.numpy()   # convert to numpy array from a Tensor\n",
    "        image = image.cpu().numpy()   # convert to numpy array from a Tensor\n",
    "        image = np.transpose(image, (1, 2, 0))   # transpose to go from torch to numpy image\n",
    "\n",
    "        # un-transform the predicted key_pts data\n",
    "        predicted_key_pts = test_outputs[i].data\n",
    "#         predicted_key_pts = predicted_key_pts.numpy()  \n",
    "        predicted_key_pts = predicted_key_pts.cpu().numpy()   # use cuda\n",
    "        # undo normalization of keypoints  \n",
    "        predicted_key_pts = predicted_key_pts*50.0+100\n",
    "        \n",
    "        # plot ground truth points for comparison, if they exist\n",
    "        ground_truth_pts = None\n",
    "        if gt_pts is not None:\n",
    "            ground_truth_pts = gt_pts[i]         \n",
    "            ground_truth_pts = ground_truth_pts*50.0+100\n",
    "        \n",
    "        # call show_all_keypoints\n",
    "        show_all_keypoints(np.squeeze(image), predicted_key_pts, ground_truth_pts)\n",
    "            \n",
    "        plt.axis('off')\n",
    "\n",
    "    plt.show()\n",
    "    \n",
    "# call it\n",
    "visualize_output(test_images, test_outputs, gt_pts)"
   ]
  },
  {
   "cell_type": "code",
   "execution_count": 13,
   "metadata": {},
   "outputs": [],
   "source": [
    "# print(gt_pts[0])"
   ]
  },
  {
   "cell_type": "markdown",
   "metadata": {},
   "source": [
    "## Training\n",
    "\n",
    "#### Loss function\n",
    "Training a network to predict keypoints is different than training a network to predict a class; instead of outputting a distribution of classes and using cross entropy loss, you may want to choose a loss function that is suited for regression, which directly compares a predicted value and target value. Read about the various kinds of loss functions (like MSE or L1/SmoothL1 loss) in [this documentation](http://pytorch.org/docs/master/_modules/torch/nn/modules/loss.html).\n",
    "\n",
    "### TODO: Define the loss and optimization\n",
    "\n",
    "Next, you'll define how the model will train by deciding on the loss function and optimizer.\n",
    "\n",
    "---"
   ]
  },
  {
   "cell_type": "code",
   "execution_count": 14,
   "metadata": {},
   "outputs": [],
   "source": [
    "## TODO: Define the loss and optimization\n",
    "import torch.optim as optim\n",
    "\n",
    "\n",
    "# criterion = nn.L1Loss()\n",
    "# criterion = nn.MSELoss()\n",
    "criterion = nn.SmoothL1Loss()\n",
    "\n",
    "\n",
    "# optimizer =  torch.optim.SGD(net.parameters(), lr=0.001,momentum=0.9)\n",
    "optimizer =  torch.optim.Adam(net.parameters(), lr=0.001)"
   ]
  },
  {
   "cell_type": "code",
   "execution_count": 15,
   "metadata": {},
   "outputs": [
    {
     "name": "stdout",
     "output_type": "stream",
     "text": [
      "cuda:0\n"
     ]
    }
   ],
   "source": [
    "device = torch.device(\"cuda:0\" if torch.cuda.is_available() else \"cpu\")\n",
    "print(device)\n",
    "# net = net.to(device)\n",
    "# net = net.cuda()\n",
    "# print(net)"
   ]
  },
  {
   "cell_type": "markdown",
   "metadata": {},
   "source": [
    "## Training and Initial Observation\n",
    "\n",
    "Now, you'll train on your batched training data from `train_loader` for a number of epochs. \n",
    "\n",
    "To quickly observe how your model is training and decide on whether or not you should modify it's structure or hyperparameters, you're encouraged to start off with just one or two epochs at first. As you train, note how your the model's loss behaves over time: does it decrease quickly at first and then slow down? Does it take a while to decrease in the first place? What happens if you change the batch size of your training data or modify your loss function? etc. \n",
    "\n",
    "Use these initial observations to make changes to your model and decide on the best architecture before you train for many epochs and create a final model."
   ]
  },
  {
   "cell_type": "code",
   "execution_count": 16,
   "metadata": {},
   "outputs": [],
   "source": [
    "def train_net(n_epochs):\n",
    "\n",
    "    # prepare the net for training\n",
    "    net.train()\n",
    "\n",
    "    for epoch in range(n_epochs):  # loop over the dataset multiple times\n",
    "        \n",
    "        running_loss = 0.0\n",
    "\n",
    "        # train on batches of data, assumes you already have train_loader\n",
    "        for batch_i, data in enumerate(train_loader):\n",
    "            # get the input images and their corresponding labels\n",
    "            images = data['image']\n",
    "            key_pts = data['keypoints']\n",
    "            \n",
    "            # use cuda         \n",
    "            images = images.cuda()\n",
    "            key_pts = key_pts.cuda()\n",
    "\n",
    "            # flatten pts\n",
    "            key_pts = key_pts.view(key_pts.size(0), -1)\n",
    "#             print(type(key_pts[0]))\n",
    "#             print(key_pts[0])\n",
    "\n",
    "            # convert variables to floats for regression loss\n",
    "#             key_pts = key_pts.type(torch.FloatTensor)\n",
    "#             images = images.type(torch.FloatTensor)\n",
    "            \n",
    "            key_pts = key_pts.type(torch.cuda.FloatTensor)\n",
    "            images = images.type(torch.cuda.FloatTensor)\n",
    "\n",
    "#             print(type(key_pts[0]))\n",
    "#             print(key_pts[0])\n",
    "            \n",
    "    \n",
    "            # forward pass to get outputs\n",
    "            output_pts = net(images)\n",
    "\n",
    "            # calculate the loss between predicted and target keypoints\n",
    "            loss = criterion(output_pts, key_pts)\n",
    "\n",
    "            # zero the parameter (weight) gradients\n",
    "            optimizer.zero_grad()\n",
    "            \n",
    "            # backward pass to calculate the weight gradients\n",
    "            loss.backward()\n",
    "\n",
    "            # update the weights\n",
    "            optimizer.step()\n",
    "\n",
    "            # print loss statistics\n",
    "            # to convert loss into a scalar and add it to the running_loss, use .item()\n",
    "            running_loss += loss.item()\n",
    "            if batch_i % 10 == 9:    # print every 10 batches\n",
    "                print('Epoch: {}, Batch: {}, Avg. Loss: {}'.format(epoch + 1, batch_i+1, running_loss/1000))\n",
    "                running_loss = 0.0\n",
    "            \n",
    "#             break\n",
    "\n",
    "    print('Finished Training')\n"
   ]
  },
  {
   "cell_type": "code",
   "execution_count": null,
   "metadata": {
    "scrolled": false
   },
   "outputs": [
    {
     "name": "stdout",
     "output_type": "stream",
     "text": [
      "Epoch: 1, Batch: 10, Avg. Loss: 0.00716792419552803\n",
      "Epoch: 1, Batch: 20, Avg. Loss: 0.0035529099106788634\n",
      "Epoch: 1, Batch: 30, Avg. Loss: 0.004165442049503326\n",
      "Epoch: 1, Batch: 40, Avg. Loss: 0.0024173472076654432\n",
      "Epoch: 1, Batch: 50, Avg. Loss: 0.0026662108302116395\n",
      "Epoch: 1, Batch: 60, Avg. Loss: 0.0038238257467746737\n",
      "Epoch: 1, Batch: 70, Avg. Loss: 0.002868920236825943\n",
      "Epoch: 1, Batch: 80, Avg. Loss: 0.0026551956832408905\n",
      "Epoch: 1, Batch: 90, Avg. Loss: 0.002188930943608284\n",
      "Epoch: 1, Batch: 100, Avg. Loss: 0.003218205764889717\n",
      "Epoch: 1, Batch: 110, Avg. Loss: 0.0023266569674015047\n",
      "Epoch: 1, Batch: 120, Avg. Loss: 0.002529392570257187\n",
      "Epoch: 1, Batch: 130, Avg. Loss: 0.002754171997308731\n",
      "Epoch: 1, Batch: 140, Avg. Loss: 0.002565377280116081\n",
      "Epoch: 1, Batch: 150, Avg. Loss: 0.0026403599977493286\n",
      "Epoch: 1, Batch: 160, Avg. Loss: 0.002360106274485588\n",
      "Epoch: 1, Batch: 170, Avg. Loss: 0.0025012440532445907\n",
      "Epoch: 1, Batch: 180, Avg. Loss: 0.002333489835262299\n",
      "Epoch: 1, Batch: 190, Avg. Loss: 0.0027150069922208787\n",
      "Epoch: 1, Batch: 200, Avg. Loss: 0.002803017184138298\n",
      "Epoch: 1, Batch: 210, Avg. Loss: 0.002871796220541\n",
      "Epoch: 1, Batch: 220, Avg. Loss: 0.0024883036613464354\n",
      "Epoch: 1, Batch: 230, Avg. Loss: 0.0025556960254907606\n",
      "Epoch: 1, Batch: 240, Avg. Loss: 0.0028477959036827087\n",
      "Epoch: 1, Batch: 250, Avg. Loss: 0.002612535737454891\n",
      "Epoch: 1, Batch: 260, Avg. Loss: 0.0027006834894418717\n",
      "Epoch: 1, Batch: 270, Avg. Loss: 0.0026145168095827102\n",
      "Epoch: 1, Batch: 280, Avg. Loss: 0.0022310395538806915\n",
      "Epoch: 1, Batch: 290, Avg. Loss: 0.002450601413846016\n",
      "Epoch: 1, Batch: 300, Avg. Loss: 0.002254475623369217\n",
      "Epoch: 1, Batch: 310, Avg. Loss: 0.0026686673909425735\n",
      "Epoch: 1, Batch: 320, Avg. Loss: 0.0034018023759126662\n",
      "Epoch: 1, Batch: 330, Avg. Loss: 0.002464927598834038\n",
      "Epoch: 1, Batch: 340, Avg. Loss: 0.0027138708084821703\n",
      "Epoch: 2, Batch: 10, Avg. Loss: 0.0022566803991794586\n",
      "Epoch: 2, Batch: 20, Avg. Loss: 0.002491438999772072\n",
      "Epoch: 2, Batch: 30, Avg. Loss: 0.002720127612352371\n",
      "Epoch: 2, Batch: 40, Avg. Loss: 0.002418197527527809\n",
      "Epoch: 2, Batch: 50, Avg. Loss: 0.0025384340286254883\n",
      "Epoch: 2, Batch: 60, Avg. Loss: 0.002556940957903862\n",
      "Epoch: 2, Batch: 70, Avg. Loss: 0.0031208730638027193\n",
      "Epoch: 2, Batch: 80, Avg. Loss: 0.0030259886533021926\n",
      "Epoch: 2, Batch: 90, Avg. Loss: 0.002386724777519703\n",
      "Epoch: 2, Batch: 100, Avg. Loss: 0.002693761259317398\n",
      "Epoch: 2, Batch: 110, Avg. Loss: 0.002487492799758911\n",
      "Epoch: 2, Batch: 120, Avg. Loss: 0.0024996085911989214\n",
      "Epoch: 2, Batch: 130, Avg. Loss: 0.002025980472564697\n",
      "Epoch: 2, Batch: 140, Avg. Loss: 0.0025490020364522933\n",
      "Epoch: 2, Batch: 150, Avg. Loss: 0.002826934337615967\n",
      "Epoch: 2, Batch: 160, Avg. Loss: 0.002521729573607445\n",
      "Epoch: 2, Batch: 170, Avg. Loss: 0.0022995255291461945\n",
      "Epoch: 2, Batch: 180, Avg. Loss: 0.0024702201336622236\n",
      "Epoch: 2, Batch: 190, Avg. Loss: 0.002413360953330994\n",
      "Epoch: 2, Batch: 200, Avg. Loss: 0.0027379271984100343\n",
      "Epoch: 2, Batch: 210, Avg. Loss: 0.0025656161457300185\n",
      "Epoch: 2, Batch: 220, Avg. Loss: 0.003336626097559929\n",
      "Epoch: 2, Batch: 230, Avg. Loss: 0.0030675584971904756\n",
      "Epoch: 2, Batch: 240, Avg. Loss: 0.003239599674940109\n",
      "Epoch: 2, Batch: 250, Avg. Loss: 0.002294876992702484\n",
      "Epoch: 2, Batch: 260, Avg. Loss: 0.0022402175068855284\n",
      "Epoch: 2, Batch: 270, Avg. Loss: 0.00363590207695961\n",
      "Epoch: 2, Batch: 280, Avg. Loss: 0.002644453749060631\n",
      "Epoch: 2, Batch: 290, Avg. Loss: 0.0022116669565439223\n",
      "Epoch: 2, Batch: 300, Avg. Loss: 0.002329611226916313\n",
      "Epoch: 2, Batch: 310, Avg. Loss: 0.0026021551191806793\n",
      "Epoch: 2, Batch: 320, Avg. Loss: 0.0033070484548807146\n",
      "Epoch: 2, Batch: 330, Avg. Loss: 0.0023600873351097107\n",
      "Epoch: 2, Batch: 340, Avg. Loss: 0.0020695369094610215\n",
      "Epoch: 3, Batch: 10, Avg. Loss: 0.002577772840857506\n",
      "Epoch: 3, Batch: 20, Avg. Loss: 0.0030744980573654173\n",
      "Epoch: 3, Batch: 30, Avg. Loss: 0.0029734143912792206\n",
      "Epoch: 3, Batch: 40, Avg. Loss: 0.002248257726430893\n",
      "Epoch: 3, Batch: 50, Avg. Loss: 0.0023363165110349654\n",
      "Epoch: 3, Batch: 60, Avg. Loss: 0.00233466112613678\n",
      "Epoch: 3, Batch: 70, Avg. Loss: 0.0025884276032447813\n",
      "Epoch: 3, Batch: 80, Avg. Loss: 0.0022939196079969407\n",
      "Epoch: 3, Batch: 90, Avg. Loss: 0.0021468571573495863\n",
      "Epoch: 3, Batch: 100, Avg. Loss: 0.0025906005650758743\n",
      "Epoch: 3, Batch: 110, Avg. Loss: 0.0023799832463264467\n",
      "Epoch: 3, Batch: 120, Avg. Loss: 0.002539815679192543\n",
      "Epoch: 3, Batch: 130, Avg. Loss: 0.0023682040870189667\n",
      "Epoch: 3, Batch: 140, Avg. Loss: 0.0021634437888860703\n",
      "Epoch: 3, Batch: 150, Avg. Loss: 0.0021492384672164916\n",
      "Epoch: 3, Batch: 160, Avg. Loss: 0.0022072202190756797\n",
      "Epoch: 3, Batch: 170, Avg. Loss: 0.0024883811622858046\n",
      "Epoch: 3, Batch: 180, Avg. Loss: 0.003908468499779701\n",
      "Epoch: 3, Batch: 190, Avg. Loss: 0.0023956979513168335\n",
      "Epoch: 3, Batch: 200, Avg. Loss: 0.0027136730551719666\n",
      "Epoch: 3, Batch: 210, Avg. Loss: 0.003008333906531334\n",
      "Epoch: 3, Batch: 220, Avg. Loss: 0.0022895009517669676\n",
      "Epoch: 3, Batch: 230, Avg. Loss: 0.002689552143216133\n",
      "Epoch: 3, Batch: 240, Avg. Loss: 0.0025953366756439208\n",
      "Epoch: 3, Batch: 250, Avg. Loss: 0.002255255714058876\n",
      "Epoch: 3, Batch: 260, Avg. Loss: 0.0025031236410140993\n",
      "Epoch: 3, Batch: 270, Avg. Loss: 0.0018522431030869484\n",
      "Epoch: 3, Batch: 280, Avg. Loss: 0.002642951115965843\n",
      "Epoch: 3, Batch: 290, Avg. Loss: 0.0025112166404724122\n",
      "Epoch: 3, Batch: 300, Avg. Loss: 0.0021010231971740722\n",
      "Epoch: 3, Batch: 310, Avg. Loss: 0.0021984024047851563\n",
      "Epoch: 3, Batch: 320, Avg. Loss: 0.0025486290603876113\n",
      "Epoch: 3, Batch: 330, Avg. Loss: 0.0030768173187971115\n",
      "Epoch: 3, Batch: 340, Avg. Loss: 0.0024268696457147598\n",
      "Epoch: 4, Batch: 10, Avg. Loss: 0.0022788033038377764\n",
      "Epoch: 4, Batch: 20, Avg. Loss: 0.003572972282767296\n",
      "Epoch: 4, Batch: 30, Avg. Loss: 0.002338702291250229\n",
      "Epoch: 4, Batch: 40, Avg. Loss: 0.002589366301894188\n",
      "Epoch: 4, Batch: 50, Avg. Loss: 0.0026825415566563604\n",
      "Epoch: 4, Batch: 60, Avg. Loss: 0.00199861054122448\n",
      "Epoch: 4, Batch: 70, Avg. Loss: 0.0026098770946264265\n",
      "Epoch: 4, Batch: 80, Avg. Loss: 0.002147091194987297\n",
      "Epoch: 4, Batch: 90, Avg. Loss: 0.003984932690858841\n",
      "Epoch: 4, Batch: 100, Avg. Loss: 0.002259728878736496\n",
      "Epoch: 4, Batch: 110, Avg. Loss: 0.0021329954862594606\n",
      "Epoch: 4, Batch: 120, Avg. Loss: 0.002722061708569527\n",
      "Epoch: 4, Batch: 130, Avg. Loss: 0.0027899022549390793\n",
      "Epoch: 4, Batch: 140, Avg. Loss: 0.0023627543747425078\n",
      "Epoch: 4, Batch: 150, Avg. Loss: 0.00461110158264637\n",
      "Epoch: 4, Batch: 160, Avg. Loss: 0.002411136269569397\n",
      "Epoch: 4, Batch: 170, Avg. Loss: 0.0024603776931762696\n",
      "Epoch: 4, Batch: 180, Avg. Loss: 0.001998864993453026\n",
      "Epoch: 4, Batch: 190, Avg. Loss: 0.002294945865869522\n",
      "Epoch: 4, Batch: 200, Avg. Loss: 0.0022401581853628157\n",
      "Epoch: 4, Batch: 210, Avg. Loss: 0.002828776732087135\n",
      "Epoch: 4, Batch: 220, Avg. Loss: 0.002856656849384308\n",
      "Epoch: 4, Batch: 230, Avg. Loss: 0.0029978962987661363\n",
      "Epoch: 4, Batch: 240, Avg. Loss: 0.002363325998187065\n",
      "Epoch: 4, Batch: 250, Avg. Loss: 0.0024526897072792053\n",
      "Epoch: 4, Batch: 260, Avg. Loss: 0.002306951329112053\n",
      "Epoch: 4, Batch: 270, Avg. Loss: 0.0024829465746879576\n",
      "Epoch: 4, Batch: 280, Avg. Loss: 0.0022426485270261765\n",
      "Epoch: 4, Batch: 290, Avg. Loss: 0.0025439376533031464\n",
      "Epoch: 4, Batch: 300, Avg. Loss: 0.0023747076839208603\n",
      "Epoch: 4, Batch: 310, Avg. Loss: 0.0024970564544200898\n",
      "Epoch: 4, Batch: 320, Avg. Loss: 0.0026465801596641542\n",
      "Epoch: 4, Batch: 330, Avg. Loss: 0.0028175334483385088\n",
      "Epoch: 4, Batch: 340, Avg. Loss: 0.0023471902310848235\n",
      "Epoch: 5, Batch: 10, Avg. Loss: 0.002432254210114479\n",
      "Epoch: 5, Batch: 20, Avg. Loss: 0.0029017941802740098\n",
      "Epoch: 5, Batch: 30, Avg. Loss: 0.003000591769814491\n",
      "Epoch: 5, Batch: 40, Avg. Loss: 0.002186646819114685\n",
      "Epoch: 5, Batch: 50, Avg. Loss: 0.00249516624212265\n",
      "Epoch: 5, Batch: 60, Avg. Loss: 0.002570507898926735\n",
      "Epoch: 5, Batch: 70, Avg. Loss: 0.002098543345928192\n",
      "Epoch: 5, Batch: 80, Avg. Loss: 0.0024072853326797487\n",
      "Epoch: 5, Batch: 90, Avg. Loss: 0.0027650534212589266\n",
      "Epoch: 5, Batch: 100, Avg. Loss: 0.002210915997624397\n",
      "Epoch: 5, Batch: 110, Avg. Loss: 0.0025052371099591256\n",
      "Epoch: 5, Batch: 120, Avg. Loss: 0.002247403234243393\n",
      "Epoch: 5, Batch: 130, Avg. Loss: 0.0021731295585632323\n",
      "Epoch: 5, Batch: 140, Avg. Loss: 0.002355925738811493\n",
      "Epoch: 5, Batch: 150, Avg. Loss: 0.0019543185532093048\n",
      "Epoch: 5, Batch: 160, Avg. Loss: 0.002647969365119934\n"
     ]
    },
    {
     "name": "stdout",
     "output_type": "stream",
     "text": [
      "Epoch: 5, Batch: 170, Avg. Loss: 0.002139181062579155\n",
      "Epoch: 5, Batch: 180, Avg. Loss: 0.0025438681542873385\n",
      "Epoch: 5, Batch: 190, Avg. Loss: 0.0022172066122293473\n",
      "Epoch: 5, Batch: 200, Avg. Loss: 0.002515239104628563\n",
      "Epoch: 5, Batch: 210, Avg. Loss: 0.0021822111159563065\n",
      "Epoch: 5, Batch: 220, Avg. Loss: 0.0030201495885848998\n",
      "Epoch: 5, Batch: 230, Avg. Loss: 0.002633531793951988\n",
      "Epoch: 5, Batch: 240, Avg. Loss: 0.00242838391661644\n",
      "Epoch: 5, Batch: 250, Avg. Loss: 0.0022479874789714813\n",
      "Epoch: 5, Batch: 260, Avg. Loss: 0.0029818050265312196\n",
      "Epoch: 5, Batch: 270, Avg. Loss: 0.0023074622005224226\n",
      "Epoch: 5, Batch: 280, Avg. Loss: 0.0028976351022720337\n",
      "Epoch: 5, Batch: 290, Avg. Loss: 0.001992131143808365\n",
      "Epoch: 5, Batch: 300, Avg. Loss: 0.0022543403655290602\n",
      "Epoch: 5, Batch: 310, Avg. Loss: 0.0022107863128185273\n",
      "Epoch: 5, Batch: 320, Avg. Loss: 0.002321585759520531\n",
      "Epoch: 5, Batch: 330, Avg. Loss: 0.002502154216170311\n",
      "Epoch: 5, Batch: 340, Avg. Loss: 0.0023467602133750917\n",
      "Epoch: 6, Batch: 10, Avg. Loss: 0.002107697069644928\n",
      "Epoch: 6, Batch: 20, Avg. Loss: 0.0023647343665361403\n",
      "Epoch: 6, Batch: 30, Avg. Loss: 0.001956687107682228\n",
      "Epoch: 6, Batch: 40, Avg. Loss: 0.0026551662534475325\n",
      "Epoch: 6, Batch: 50, Avg. Loss: 0.0025635079741477967\n",
      "Epoch: 6, Batch: 60, Avg. Loss: 0.00227045863866806\n",
      "Epoch: 6, Batch: 70, Avg. Loss: 0.0025117640793323515\n",
      "Epoch: 6, Batch: 80, Avg. Loss: 0.0021604741960763933\n",
      "Epoch: 6, Batch: 90, Avg. Loss: 0.002587130829691887\n",
      "Epoch: 6, Batch: 100, Avg. Loss: 0.002270151033997536\n",
      "Epoch: 6, Batch: 110, Avg. Loss: 0.002580230198800564\n",
      "Epoch: 6, Batch: 120, Avg. Loss: 0.0025627627372741698\n",
      "Epoch: 6, Batch: 130, Avg. Loss: 0.0023479014933109285\n",
      "Epoch: 6, Batch: 140, Avg. Loss: 0.002546676352620125\n",
      "Epoch: 6, Batch: 150, Avg. Loss: 0.0021101807951927187\n",
      "Epoch: 6, Batch: 160, Avg. Loss: 0.0018864176869392395\n",
      "Epoch: 6, Batch: 170, Avg. Loss: 0.002462922528386116\n",
      "Epoch: 6, Batch: 180, Avg. Loss: 0.002906943902373314\n",
      "Epoch: 6, Batch: 190, Avg. Loss: 0.0020448195189237597\n",
      "Epoch: 6, Batch: 200, Avg. Loss: 0.002205739215016365\n",
      "Epoch: 6, Batch: 210, Avg. Loss: 0.002447075203061104\n",
      "Epoch: 6, Batch: 220, Avg. Loss: 0.0022651262432336807\n",
      "Epoch: 6, Batch: 230, Avg. Loss: 0.0023401023745536803\n",
      "Epoch: 6, Batch: 240, Avg. Loss: 0.002576101005077362\n",
      "Epoch: 6, Batch: 250, Avg. Loss: 0.0026434932798147202\n",
      "Epoch: 6, Batch: 260, Avg. Loss: 0.002452835276722908\n",
      "Epoch: 6, Batch: 270, Avg. Loss: 0.0022894069254398345\n",
      "Epoch: 6, Batch: 280, Avg. Loss: 0.002193728491663933\n",
      "Epoch: 6, Batch: 290, Avg. Loss: 0.002757349297404289\n",
      "Epoch: 6, Batch: 300, Avg. Loss: 0.002663040056824684\n",
      "Epoch: 6, Batch: 310, Avg. Loss: 0.0020240687429904937\n",
      "Epoch: 6, Batch: 320, Avg. Loss: 0.002382369264960289\n",
      "Epoch: 6, Batch: 330, Avg. Loss: 0.0028616500049829484\n",
      "Epoch: 6, Batch: 340, Avg. Loss: 0.0021343749463558197\n",
      "Epoch: 7, Batch: 10, Avg. Loss: 0.0019948714524507523\n",
      "Epoch: 7, Batch: 20, Avg. Loss: 0.0024405416697263716\n",
      "Epoch: 7, Batch: 30, Avg. Loss: 0.0023940885663032534\n",
      "Epoch: 7, Batch: 40, Avg. Loss: 0.002154539540410042\n",
      "Epoch: 7, Batch: 50, Avg. Loss: 0.0020879971832036973\n",
      "Epoch: 7, Batch: 60, Avg. Loss: 0.002173309430480003\n",
      "Epoch: 7, Batch: 70, Avg. Loss: 0.0021267999857664107\n",
      "Epoch: 7, Batch: 80, Avg. Loss: 0.002092313602566719\n",
      "Epoch: 7, Batch: 90, Avg. Loss: 0.0025542639344930647\n",
      "Epoch: 7, Batch: 100, Avg. Loss: 0.001961839571595192\n",
      "Epoch: 7, Batch: 110, Avg. Loss: 0.002147580772638321\n",
      "Epoch: 7, Batch: 120, Avg. Loss: 0.002577953651547432\n",
      "Epoch: 7, Batch: 130, Avg. Loss: 0.002723983645439148\n",
      "Epoch: 7, Batch: 140, Avg. Loss: 0.002216023728251457\n",
      "Epoch: 7, Batch: 150, Avg. Loss: 0.002577484235167503\n",
      "Epoch: 7, Batch: 160, Avg. Loss: 0.004215333640575409\n",
      "Epoch: 7, Batch: 170, Avg. Loss: 0.0033438715040683747\n",
      "Epoch: 7, Batch: 180, Avg. Loss: 0.0025101966857910157\n",
      "Epoch: 7, Batch: 190, Avg. Loss: 0.0025000246316194534\n",
      "Epoch: 7, Batch: 200, Avg. Loss: 0.002192608565092087\n",
      "Epoch: 7, Batch: 210, Avg. Loss: 0.002642459452152252\n",
      "Epoch: 7, Batch: 220, Avg. Loss: 0.002444878280162811\n",
      "Epoch: 7, Batch: 230, Avg. Loss: 0.002674570128321648\n",
      "Epoch: 7, Batch: 240, Avg. Loss: 0.002330455929040909\n",
      "Epoch: 7, Batch: 250, Avg. Loss: 0.002403037667274475\n",
      "Epoch: 7, Batch: 260, Avg. Loss: 0.0026540936827659607\n",
      "Epoch: 7, Batch: 270, Avg. Loss: 0.0027305317223072054\n",
      "Epoch: 7, Batch: 280, Avg. Loss: 0.002529427871108055\n",
      "Epoch: 7, Batch: 290, Avg. Loss: 0.0024659933149814607\n",
      "Epoch: 7, Batch: 300, Avg. Loss: 0.0023007074296474456\n",
      "Epoch: 7, Batch: 310, Avg. Loss: 0.0023035026341676713\n",
      "Epoch: 7, Batch: 320, Avg. Loss: 0.0021186205893754958\n",
      "Epoch: 7, Batch: 330, Avg. Loss: 0.0025675126016139983\n",
      "Epoch: 7, Batch: 340, Avg. Loss: 0.0022681938260793685\n",
      "Epoch: 8, Batch: 10, Avg. Loss: 0.002443151414394379\n",
      "Epoch: 8, Batch: 20, Avg. Loss: 0.002233662322163582\n",
      "Epoch: 8, Batch: 30, Avg. Loss: 0.004384821638464927\n",
      "Epoch: 8, Batch: 40, Avg. Loss: 0.0025940343886613846\n",
      "Epoch: 8, Batch: 50, Avg. Loss: 0.002471117481589317\n",
      "Epoch: 8, Batch: 60, Avg. Loss: 0.0021888657808303833\n",
      "Epoch: 8, Batch: 70, Avg. Loss: 0.0024549992382526396\n",
      "Epoch: 8, Batch: 80, Avg. Loss: 0.002262191101908684\n",
      "Epoch: 8, Batch: 90, Avg. Loss: 0.0029723163545131684\n",
      "Epoch: 8, Batch: 100, Avg. Loss: 0.002455003783106804\n",
      "Epoch: 8, Batch: 110, Avg. Loss: 0.002154674008488655\n",
      "Epoch: 8, Batch: 120, Avg. Loss: 0.0026151372492313387\n",
      "Epoch: 8, Batch: 130, Avg. Loss: 0.00232194522023201\n",
      "Epoch: 8, Batch: 140, Avg. Loss: 0.0024768640100955963\n",
      "Epoch: 8, Batch: 150, Avg. Loss: 0.0021546226292848587\n",
      "Epoch: 8, Batch: 160, Avg. Loss: 0.002295516222715378\n",
      "Epoch: 8, Batch: 170, Avg. Loss: 0.0023536287099123\n",
      "Epoch: 8, Batch: 180, Avg. Loss: 0.002170155197381973\n",
      "Epoch: 8, Batch: 190, Avg. Loss: 0.0024784363955259324\n",
      "Epoch: 8, Batch: 200, Avg. Loss: 0.0020481890588998795\n",
      "Epoch: 8, Batch: 210, Avg. Loss: 0.0020508694499731064\n",
      "Epoch: 8, Batch: 220, Avg. Loss: 0.0023419627994298933\n",
      "Epoch: 8, Batch: 230, Avg. Loss: 0.0023269579410552976\n",
      "Epoch: 8, Batch: 240, Avg. Loss: 0.002579294249415398\n",
      "Epoch: 8, Batch: 250, Avg. Loss: 0.002507869064807892\n",
      "Epoch: 8, Batch: 260, Avg. Loss: 0.002324342206120491\n",
      "Epoch: 8, Batch: 270, Avg. Loss: 0.0024430999755859373\n",
      "Epoch: 8, Batch: 280, Avg. Loss: 0.002250617906451225\n",
      "Epoch: 8, Batch: 290, Avg. Loss: 0.0019897720813751222\n",
      "Epoch: 8, Batch: 300, Avg. Loss: 0.0027377666383981707\n",
      "Epoch: 8, Batch: 310, Avg. Loss: 0.0023563692569732665\n",
      "Epoch: 8, Batch: 320, Avg. Loss: 0.0024285346269607546\n",
      "Epoch: 8, Batch: 330, Avg. Loss: 0.002042213886976242\n",
      "Epoch: 8, Batch: 340, Avg. Loss: 0.002421556204557419\n",
      "Epoch: 9, Batch: 10, Avg. Loss: 0.0027115241289138795\n",
      "Epoch: 9, Batch: 20, Avg. Loss: 0.00224237784743309\n",
      "Epoch: 9, Batch: 30, Avg. Loss: 0.0022839017659425738\n",
      "Epoch: 9, Batch: 40, Avg. Loss: 0.0026237432807683946\n",
      "Epoch: 9, Batch: 50, Avg. Loss: 0.002149227187037468\n",
      "Epoch: 9, Batch: 60, Avg. Loss: 0.0020675980299711227\n",
      "Epoch: 9, Batch: 70, Avg. Loss: 0.0022484030425548554\n",
      "Epoch: 9, Batch: 80, Avg. Loss: 0.0027059475928544996\n",
      "Epoch: 9, Batch: 90, Avg. Loss: 0.0030278914123773575\n",
      "Epoch: 9, Batch: 100, Avg. Loss: 0.0034330857247114183\n",
      "Epoch: 9, Batch: 110, Avg. Loss: 0.00213318832218647\n",
      "Epoch: 9, Batch: 120, Avg. Loss: 0.0023704838752746584\n",
      "Epoch: 9, Batch: 130, Avg. Loss: 0.0029844661951065063\n",
      "Epoch: 9, Batch: 140, Avg. Loss: 0.002154444023966789\n",
      "Epoch: 9, Batch: 150, Avg. Loss: 0.0023769312947988512\n",
      "Epoch: 9, Batch: 160, Avg. Loss: 0.002101215273141861\n",
      "Epoch: 9, Batch: 170, Avg. Loss: 0.0022963531464338304\n",
      "Epoch: 9, Batch: 180, Avg. Loss: 0.0023709709644317628\n",
      "Epoch: 9, Batch: 190, Avg. Loss: 0.002670101806521416\n",
      "Epoch: 9, Batch: 200, Avg. Loss: 0.002189974367618561\n",
      "Epoch: 9, Batch: 210, Avg. Loss: 0.0028265450000762938\n",
      "Epoch: 9, Batch: 220, Avg. Loss: 0.002283885546028614\n",
      "Epoch: 9, Batch: 230, Avg. Loss: 0.00262523327767849\n",
      "Epoch: 9, Batch: 240, Avg. Loss: 0.002730323180556297\n",
      "Epoch: 9, Batch: 250, Avg. Loss: 0.0023364730924367904\n",
      "Epoch: 9, Batch: 260, Avg. Loss: 0.0026862092167139052\n",
      "Epoch: 9, Batch: 270, Avg. Loss: 0.0022298932522535325\n",
      "Epoch: 9, Batch: 280, Avg. Loss: 0.0020382477194070816\n",
      "Epoch: 9, Batch: 290, Avg. Loss: 0.0022207373082637786\n",
      "Epoch: 9, Batch: 300, Avg. Loss: 0.002993896812200546\n",
      "Epoch: 9, Batch: 310, Avg. Loss: 0.0024383302628993987\n",
      "Epoch: 9, Batch: 320, Avg. Loss: 0.0020483472794294356\n"
     ]
    },
    {
     "name": "stdout",
     "output_type": "stream",
     "text": [
      "Epoch: 9, Batch: 330, Avg. Loss: 0.002846898004412651\n",
      "Epoch: 9, Batch: 340, Avg. Loss: 0.0021593089550733567\n",
      "Epoch: 10, Batch: 10, Avg. Loss: 0.001953641653060913\n",
      "Epoch: 10, Batch: 20, Avg. Loss: 0.0026257946342229843\n",
      "Epoch: 10, Batch: 30, Avg. Loss: 0.002781285434961319\n",
      "Epoch: 10, Batch: 40, Avg. Loss: 0.0024695441722869874\n",
      "Epoch: 10, Batch: 50, Avg. Loss: 0.002464715212583542\n",
      "Epoch: 10, Batch: 60, Avg. Loss: 0.0025309463292360304\n",
      "Epoch: 10, Batch: 70, Avg. Loss: 0.0021135133504867555\n",
      "Epoch: 10, Batch: 80, Avg. Loss: 0.00256791889667511\n",
      "Epoch: 10, Batch: 90, Avg. Loss: 0.002516993209719658\n",
      "Epoch: 10, Batch: 100, Avg. Loss: 0.0022138459384441374\n",
      "Epoch: 10, Batch: 110, Avg. Loss: 0.002019099608063698\n",
      "Epoch: 10, Batch: 120, Avg. Loss: 0.0021669358909130096\n",
      "Epoch: 10, Batch: 130, Avg. Loss: 0.002138903498649597\n",
      "Epoch: 10, Batch: 140, Avg. Loss: 0.0024038521051406862\n",
      "Epoch: 10, Batch: 150, Avg. Loss: 0.0027876441925764085\n",
      "Epoch: 10, Batch: 160, Avg. Loss: 0.002325251452624798\n",
      "Epoch: 10, Batch: 170, Avg. Loss: 0.0021916266530752184\n",
      "Epoch: 10, Batch: 180, Avg. Loss: 0.001973075523972511\n",
      "Epoch: 10, Batch: 190, Avg. Loss: 0.0029618029445409775\n",
      "Epoch: 10, Batch: 200, Avg. Loss: 0.0024194532483816145\n",
      "Epoch: 10, Batch: 210, Avg. Loss: 0.0022957339361310007\n",
      "Epoch: 10, Batch: 220, Avg. Loss: 0.0024980096668004988\n",
      "Epoch: 10, Batch: 230, Avg. Loss: 0.0022685590237379073\n",
      "Epoch: 10, Batch: 240, Avg. Loss: 0.0024183925986289976\n",
      "Epoch: 10, Batch: 250, Avg. Loss: 0.002107930704951286\n",
      "Epoch: 10, Batch: 260, Avg. Loss: 0.002313570648431778\n",
      "Epoch: 10, Batch: 270, Avg. Loss: 0.0027632290720939635\n",
      "Epoch: 10, Batch: 280, Avg. Loss: 0.0025961798429489135\n",
      "Epoch: 10, Batch: 290, Avg. Loss: 0.001999214023351669\n",
      "Epoch: 10, Batch: 300, Avg. Loss: 0.0021866042613983153\n",
      "Epoch: 10, Batch: 310, Avg. Loss: 0.0022943676933646203\n",
      "Epoch: 10, Batch: 320, Avg. Loss: 0.0026394018158316613\n",
      "Epoch: 10, Batch: 330, Avg. Loss: 0.00225181145966053\n",
      "Epoch: 10, Batch: 340, Avg. Loss: 0.0022657829970121383\n",
      "Epoch: 11, Batch: 10, Avg. Loss: 0.0024593404978513716\n",
      "Epoch: 11, Batch: 20, Avg. Loss: 0.0027108210027217863\n",
      "Epoch: 11, Batch: 30, Avg. Loss: 0.002464525267481804\n",
      "Epoch: 11, Batch: 40, Avg. Loss: 0.002866898611187935\n",
      "Epoch: 11, Batch: 50, Avg. Loss: 0.001885725125670433\n",
      "Epoch: 11, Batch: 60, Avg. Loss: 0.002241461530327797\n",
      "Epoch: 11, Batch: 70, Avg. Loss: 0.0028551552295684813\n",
      "Epoch: 11, Batch: 80, Avg. Loss: 0.00248753197491169\n",
      "Epoch: 11, Batch: 90, Avg. Loss: 0.002337386757135391\n",
      "Epoch: 11, Batch: 100, Avg. Loss: 0.0020735783874988555\n",
      "Epoch: 11, Batch: 110, Avg. Loss: 0.002240558236837387\n",
      "Epoch: 11, Batch: 120, Avg. Loss: 0.002569517374038696\n",
      "Epoch: 11, Batch: 130, Avg. Loss: 0.0023444073498249053\n",
      "Epoch: 11, Batch: 140, Avg. Loss: 0.0026422676146030427\n",
      "Epoch: 11, Batch: 150, Avg. Loss: 0.0022195789366960526\n",
      "Epoch: 11, Batch: 160, Avg. Loss: 0.002361953377723694\n",
      "Epoch: 11, Batch: 170, Avg. Loss: 0.0022327597588300704\n",
      "Epoch: 11, Batch: 180, Avg. Loss: 0.002409207418560982\n",
      "Epoch: 11, Batch: 190, Avg. Loss: 0.0021225343942642212\n",
      "Epoch: 11, Batch: 200, Avg. Loss: 0.002623659998178482\n",
      "Epoch: 11, Batch: 210, Avg. Loss: 0.0025744444578886033\n",
      "Epoch: 11, Batch: 220, Avg. Loss: 0.0023085253983736037\n",
      "Epoch: 11, Batch: 230, Avg. Loss: 0.0023065197020769117\n",
      "Epoch: 11, Batch: 240, Avg. Loss: 0.003433340832591057\n",
      "Epoch: 11, Batch: 250, Avg. Loss: 0.0021811771988868712\n",
      "Epoch: 11, Batch: 260, Avg. Loss: 0.002003086134791374\n",
      "Epoch: 11, Batch: 270, Avg. Loss: 0.0023534157574176787\n",
      "Epoch: 11, Batch: 280, Avg. Loss: 0.002238632693886757\n",
      "Epoch: 11, Batch: 290, Avg. Loss: 0.002037417329847813\n",
      "Epoch: 11, Batch: 300, Avg. Loss: 0.0024570285081863402\n",
      "Epoch: 11, Batch: 310, Avg. Loss: 0.0021572374030947687\n",
      "Epoch: 11, Batch: 320, Avg. Loss: 0.0020797342360019686\n",
      "Epoch: 11, Batch: 330, Avg. Loss: 0.0023375140577554703\n",
      "Epoch: 11, Batch: 340, Avg. Loss: 0.0026847665011882783\n",
      "Epoch: 12, Batch: 10, Avg. Loss: 0.0021577640175819398\n",
      "Epoch: 12, Batch: 20, Avg. Loss: 0.002007725387811661\n",
      "Epoch: 12, Batch: 30, Avg. Loss: 0.0023130454868078233\n",
      "Epoch: 12, Batch: 40, Avg. Loss: 0.0022360488325357435\n",
      "Epoch: 12, Batch: 50, Avg. Loss: 0.002195083200931549\n",
      "Epoch: 12, Batch: 60, Avg. Loss: 0.0022474090605974196\n",
      "Epoch: 12, Batch: 70, Avg. Loss: 0.002693165645003319\n",
      "Epoch: 12, Batch: 80, Avg. Loss: 0.002260146826505661\n",
      "Epoch: 12, Batch: 90, Avg. Loss: 0.002258507922291756\n",
      "Epoch: 12, Batch: 100, Avg. Loss: 0.0025407408475875853\n",
      "Epoch: 12, Batch: 110, Avg. Loss: 0.0020596572905778885\n",
      "Epoch: 12, Batch: 120, Avg. Loss: 0.0027841779589653014\n",
      "Epoch: 12, Batch: 130, Avg. Loss: 0.0027242372184991836\n",
      "Epoch: 12, Batch: 140, Avg. Loss: 0.0023772258162498474\n",
      "Epoch: 12, Batch: 150, Avg. Loss: 0.0025147034227848055\n",
      "Epoch: 12, Batch: 160, Avg. Loss: 0.0018879310637712479\n",
      "Epoch: 12, Batch: 170, Avg. Loss: 0.001987209320068359\n",
      "Epoch: 12, Batch: 180, Avg. Loss: 0.001924868419766426\n",
      "Epoch: 12, Batch: 190, Avg. Loss: 0.0023779971450567246\n",
      "Epoch: 12, Batch: 200, Avg. Loss: 0.0019835073500871657\n",
      "Epoch: 12, Batch: 210, Avg. Loss: 0.00196744205057621\n",
      "Epoch: 12, Batch: 220, Avg. Loss: 0.002287225052714348\n",
      "Epoch: 12, Batch: 230, Avg. Loss: 0.0025134868770837785\n",
      "Epoch: 12, Batch: 240, Avg. Loss: 0.002469008833169937\n",
      "Epoch: 12, Batch: 250, Avg. Loss: 0.0024258977621793745\n",
      "Epoch: 12, Batch: 260, Avg. Loss: 0.0020729581490159035\n",
      "Epoch: 12, Batch: 270, Avg. Loss: 0.0024875487089157104\n",
      "Epoch: 12, Batch: 280, Avg. Loss: 0.0022952849119901655\n",
      "Epoch: 12, Batch: 290, Avg. Loss: 0.0020080062448978426\n",
      "Epoch: 12, Batch: 300, Avg. Loss: 0.0023703399747610093\n",
      "Epoch: 12, Batch: 310, Avg. Loss: 0.0023690441623330115\n",
      "Epoch: 12, Batch: 320, Avg. Loss: 0.002185266673564911\n",
      "Epoch: 12, Batch: 330, Avg. Loss: 0.002388048827648163\n",
      "Epoch: 12, Batch: 340, Avg. Loss: 0.002958887919783592\n",
      "Epoch: 13, Batch: 10, Avg. Loss: 0.0021715890914201738\n",
      "Epoch: 13, Batch: 20, Avg. Loss: 0.0021368506699800493\n",
      "Epoch: 13, Batch: 30, Avg. Loss: 0.0029170663356781006\n",
      "Epoch: 13, Batch: 40, Avg. Loss: 0.002146147921681404\n",
      "Epoch: 13, Batch: 50, Avg. Loss: 0.0020091665014624594\n",
      "Epoch: 13, Batch: 60, Avg. Loss: 0.0025224624574184417\n",
      "Epoch: 13, Batch: 70, Avg. Loss: 0.0020384033620357515\n",
      "Epoch: 13, Batch: 80, Avg. Loss: 0.0030990301221609116\n",
      "Epoch: 13, Batch: 90, Avg. Loss: 0.002939729705452919\n",
      "Epoch: 13, Batch: 100, Avg. Loss: 0.002094390794634819\n",
      "Epoch: 13, Batch: 110, Avg. Loss: 0.0019412124752998352\n",
      "Epoch: 13, Batch: 120, Avg. Loss: 0.0022911401838064194\n",
      "Epoch: 13, Batch: 130, Avg. Loss: 0.002624307781457901\n",
      "Epoch: 13, Batch: 140, Avg. Loss: 0.0022677751481533052\n",
      "Epoch: 13, Batch: 150, Avg. Loss: 0.002370841398835182\n",
      "Epoch: 13, Batch: 160, Avg. Loss: 0.0021251309365034102\n",
      "Epoch: 13, Batch: 170, Avg. Loss: 0.0019772909283638\n",
      "Epoch: 13, Batch: 180, Avg. Loss: 0.0023140312135219573\n",
      "Epoch: 13, Batch: 190, Avg. Loss: 0.0026193434596061705\n",
      "Epoch: 13, Batch: 200, Avg. Loss: 0.0020635960549116135\n",
      "Epoch: 13, Batch: 210, Avg. Loss: 0.002924616664648056\n",
      "Epoch: 13, Batch: 220, Avg. Loss: 0.0027884579449892043\n",
      "Epoch: 13, Batch: 230, Avg. Loss: 0.002453178808093071\n",
      "Epoch: 13, Batch: 240, Avg. Loss: 0.002320623368024826\n",
      "Epoch: 13, Batch: 250, Avg. Loss: 0.0018917544186115266\n",
      "Epoch: 13, Batch: 260, Avg. Loss: 0.002303861439228058\n",
      "Epoch: 13, Batch: 270, Avg. Loss: 0.002567133828997612\n",
      "Epoch: 13, Batch: 280, Avg. Loss: 0.0019665683507919312\n",
      "Epoch: 13, Batch: 290, Avg. Loss: 0.002502632975578308\n",
      "Epoch: 13, Batch: 300, Avg. Loss: 0.002217385746538639\n",
      "Epoch: 13, Batch: 310, Avg. Loss: 0.002700470522046089\n",
      "Epoch: 13, Batch: 320, Avg. Loss: 0.002262969344854355\n",
      "Epoch: 13, Batch: 330, Avg. Loss: 0.0025434972643852234\n",
      "Epoch: 13, Batch: 340, Avg. Loss: 0.0027511097341775892\n",
      "Epoch: 14, Batch: 10, Avg. Loss: 0.002312006697058678\n",
      "Epoch: 14, Batch: 20, Avg. Loss: 0.002295307844877243\n",
      "Epoch: 14, Batch: 30, Avg. Loss: 0.0024085510969161987\n",
      "Epoch: 14, Batch: 40, Avg. Loss: 0.0021455644369125365\n",
      "Epoch: 14, Batch: 50, Avg. Loss: 0.002355475515127182\n",
      "Epoch: 14, Batch: 60, Avg. Loss: 0.0018688477873802184\n",
      "Epoch: 14, Batch: 70, Avg. Loss: 0.002401746317744255\n",
      "Epoch: 14, Batch: 80, Avg. Loss: 0.003195311516523361\n",
      "Epoch: 14, Batch: 90, Avg. Loss: 0.002186028093099594\n",
      "Epoch: 14, Batch: 100, Avg. Loss: 0.0021696852445602416\n",
      "Epoch: 14, Batch: 110, Avg. Loss: 0.002311938524246216\n"
     ]
    },
    {
     "name": "stdout",
     "output_type": "stream",
     "text": [
      "Epoch: 14, Batch: 120, Avg. Loss: 0.0025586922019720077\n",
      "Epoch: 14, Batch: 130, Avg. Loss: 0.0022930961549282075\n",
      "Epoch: 14, Batch: 140, Avg. Loss: 0.00203178371489048\n",
      "Epoch: 14, Batch: 150, Avg. Loss: 0.002311218813061714\n",
      "Epoch: 14, Batch: 160, Avg. Loss: 0.0021613570600748063\n",
      "Epoch: 14, Batch: 170, Avg. Loss: 0.0021892469525337218\n",
      "Epoch: 14, Batch: 180, Avg. Loss: 0.0027983571738004684\n",
      "Epoch: 14, Batch: 190, Avg. Loss: 0.0024193659126758573\n",
      "Epoch: 14, Batch: 200, Avg. Loss: 0.0027038798183202746\n",
      "Epoch: 14, Batch: 210, Avg. Loss: 0.002398188441991806\n",
      "Epoch: 14, Batch: 220, Avg. Loss: 0.002515076220035553\n",
      "Epoch: 14, Batch: 230, Avg. Loss: 0.0022673746049404146\n",
      "Epoch: 14, Batch: 240, Avg. Loss: 0.0027339910566806795\n",
      "Epoch: 14, Batch: 250, Avg. Loss: 0.0020588565021753312\n",
      "Epoch: 14, Batch: 260, Avg. Loss: 0.002548279792070389\n",
      "Epoch: 14, Batch: 270, Avg. Loss: 0.0023230027183890343\n",
      "Epoch: 14, Batch: 280, Avg. Loss: 0.0024459313303232194\n",
      "Epoch: 14, Batch: 290, Avg. Loss: 0.002563138537108898\n",
      "Epoch: 14, Batch: 300, Avg. Loss: 0.002241568475961685\n",
      "Epoch: 14, Batch: 310, Avg. Loss: 0.00288574743270874\n",
      "Epoch: 14, Batch: 320, Avg. Loss: 0.0026875489503145216\n",
      "Epoch: 14, Batch: 330, Avg. Loss: 0.0026364338845014574\n",
      "Epoch: 14, Batch: 340, Avg. Loss: 0.00226325424015522\n",
      "Epoch: 15, Batch: 10, Avg. Loss: 0.0022621904015541075\n",
      "Epoch: 15, Batch: 20, Avg. Loss: 0.0019851421117782595\n",
      "Epoch: 15, Batch: 30, Avg. Loss: 0.0020781015306711196\n",
      "Epoch: 15, Batch: 40, Avg. Loss: 0.0029511269629001616\n",
      "Epoch: 15, Batch: 50, Avg. Loss: 0.002516866222023964\n",
      "Epoch: 15, Batch: 60, Avg. Loss: 0.0024349325299263002\n",
      "Epoch: 15, Batch: 70, Avg. Loss: 0.002163013696670532\n",
      "Epoch: 15, Batch: 80, Avg. Loss: 0.0023398759961128237\n",
      "Epoch: 15, Batch: 90, Avg. Loss: 0.0021029467955231665\n",
      "Epoch: 15, Batch: 100, Avg. Loss: 0.0020762464851140977\n",
      "Epoch: 15, Batch: 110, Avg. Loss: 0.0023337311893701553\n",
      "Epoch: 15, Batch: 120, Avg. Loss: 0.002463636875152588\n",
      "Epoch: 15, Batch: 130, Avg. Loss: 0.002152583345770836\n",
      "Epoch: 15, Batch: 140, Avg. Loss: 0.0020862364768981932\n",
      "Epoch: 15, Batch: 150, Avg. Loss: 0.002357524514198303\n",
      "Epoch: 15, Batch: 160, Avg. Loss: 0.00222282150387764\n",
      "Epoch: 15, Batch: 170, Avg. Loss: 0.0020119915753602983\n",
      "Epoch: 15, Batch: 180, Avg. Loss: 0.0025198754370212555\n",
      "Epoch: 15, Batch: 190, Avg. Loss: 0.0025057706236839296\n",
      "Epoch: 15, Batch: 200, Avg. Loss: 0.0024509915113449096\n",
      "Epoch: 15, Batch: 210, Avg. Loss: 0.0023361663967370987\n",
      "Epoch: 15, Batch: 220, Avg. Loss: 0.0023425270915031432\n",
      "Epoch: 15, Batch: 230, Avg. Loss: 0.002210088901221752\n",
      "Epoch: 15, Batch: 240, Avg. Loss: 0.002189394176006317\n",
      "Epoch: 15, Batch: 250, Avg. Loss: 0.0023525174111127855\n",
      "Epoch: 15, Batch: 260, Avg. Loss: 0.0024165775030851365\n",
      "Epoch: 15, Batch: 270, Avg. Loss: 0.0019585463851690293\n",
      "Epoch: 15, Batch: 280, Avg. Loss: 0.002198815271258354\n",
      "Epoch: 15, Batch: 290, Avg. Loss: 0.002307089313864708\n",
      "Epoch: 15, Batch: 300, Avg. Loss: 0.0024045245349407197\n",
      "Epoch: 15, Batch: 310, Avg. Loss: 0.002210003957152367\n",
      "Epoch: 15, Batch: 320, Avg. Loss: 0.0023324673771858216\n",
      "Epoch: 15, Batch: 330, Avg. Loss: 0.0030481533110141754\n",
      "Epoch: 15, Batch: 340, Avg. Loss: 0.0022499197870492933\n",
      "Epoch: 16, Batch: 10, Avg. Loss: 0.0021845809817314147\n",
      "Epoch: 16, Batch: 20, Avg. Loss: 0.002769954174757004\n",
      "Epoch: 16, Batch: 30, Avg. Loss: 0.0041703182011842725\n",
      "Epoch: 16, Batch: 40, Avg. Loss: 0.0027727080434560777\n",
      "Epoch: 16, Batch: 50, Avg. Loss: 0.0025284553319215777\n",
      "Epoch: 16, Batch: 60, Avg. Loss: 0.0020356452018022537\n",
      "Epoch: 16, Batch: 70, Avg. Loss: 0.002206624686717987\n",
      "Epoch: 16, Batch: 80, Avg. Loss: 0.0022868075892329216\n",
      "Epoch: 16, Batch: 90, Avg. Loss: 0.002257792890071869\n",
      "Epoch: 16, Batch: 100, Avg. Loss: 0.002065094776451588\n",
      "Epoch: 16, Batch: 110, Avg. Loss: 0.002298521414399147\n",
      "Epoch: 16, Batch: 120, Avg. Loss: 0.0025426117926836012\n",
      "Epoch: 16, Batch: 130, Avg. Loss: 0.002417048171162605\n",
      "Epoch: 16, Batch: 140, Avg. Loss: 0.0021843686401844024\n",
      "Epoch: 16, Batch: 150, Avg. Loss: 0.0027965025901794433\n",
      "Epoch: 16, Batch: 160, Avg. Loss: 0.0030087864249944687\n",
      "Epoch: 16, Batch: 170, Avg. Loss: 0.0021016347855329514\n",
      "Epoch: 16, Batch: 180, Avg. Loss: 0.0022062958031892777\n",
      "Epoch: 16, Batch: 190, Avg. Loss: 0.0021028604805469514\n",
      "Epoch: 16, Batch: 200, Avg. Loss: 0.002721891239285469\n",
      "Epoch: 16, Batch: 210, Avg. Loss: 0.0027179199755191803\n",
      "Epoch: 16, Batch: 220, Avg. Loss: 0.0018947055637836456\n",
      "Epoch: 16, Batch: 230, Avg. Loss: 0.0023179521560668945\n",
      "Epoch: 16, Batch: 240, Avg. Loss: 0.0022955148220062255\n",
      "Epoch: 16, Batch: 250, Avg. Loss: 0.002711446315050125\n",
      "Epoch: 16, Batch: 260, Avg. Loss: 0.002035955101251602\n",
      "Epoch: 16, Batch: 270, Avg. Loss: 0.0029937720447778702\n",
      "Epoch: 16, Batch: 280, Avg. Loss: 0.0023438039124011995\n",
      "Epoch: 16, Batch: 290, Avg. Loss: 0.0022475973814725875\n",
      "Epoch: 16, Batch: 300, Avg. Loss: 0.002422722488641739\n",
      "Epoch: 16, Batch: 310, Avg. Loss: 0.002238402560353279\n",
      "Epoch: 16, Batch: 320, Avg. Loss: 0.0025261629074811937\n",
      "Epoch: 16, Batch: 330, Avg. Loss: 0.002670777082443237\n",
      "Epoch: 16, Batch: 340, Avg. Loss: 0.002230320870876312\n",
      "Epoch: 17, Batch: 10, Avg. Loss: 0.001898214377462864\n",
      "Epoch: 17, Batch: 20, Avg. Loss: 0.002305082231760025\n",
      "Epoch: 17, Batch: 30, Avg. Loss: 0.0024960228502750397\n",
      "Epoch: 17, Batch: 40, Avg. Loss: 0.002462635725736618\n",
      "Epoch: 17, Batch: 50, Avg. Loss: 0.0020147537887096403\n",
      "Epoch: 17, Batch: 60, Avg. Loss: 0.0023715074956417084\n",
      "Epoch: 17, Batch: 70, Avg. Loss: 0.0022155084013938905\n",
      "Epoch: 17, Batch: 80, Avg. Loss: 0.0021456041634082793\n",
      "Epoch: 17, Batch: 90, Avg. Loss: 0.003325620859861374\n",
      "Epoch: 17, Batch: 100, Avg. Loss: 0.0020712067037820816\n",
      "Epoch: 17, Batch: 110, Avg. Loss: 0.002139043465256691\n",
      "Epoch: 17, Batch: 120, Avg. Loss: 0.0021939871311187744\n",
      "Epoch: 17, Batch: 130, Avg. Loss: 0.0027147562354803085\n",
      "Epoch: 17, Batch: 140, Avg. Loss: 0.0023710857629776\n",
      "Epoch: 17, Batch: 150, Avg. Loss: 0.002006974294781685\n",
      "Epoch: 17, Batch: 160, Avg. Loss: 0.0023545079082250594\n",
      "Epoch: 17, Batch: 170, Avg. Loss: 0.002492484658956528\n",
      "Epoch: 17, Batch: 180, Avg. Loss: 0.002234839290380478\n",
      "Epoch: 17, Batch: 190, Avg. Loss: 0.002223363369703293\n",
      "Epoch: 17, Batch: 200, Avg. Loss: 0.002929371193051338\n",
      "Epoch: 17, Batch: 210, Avg. Loss: 0.002198143482208252\n",
      "Epoch: 17, Batch: 220, Avg. Loss: 0.0026863129287958147\n",
      "Epoch: 17, Batch: 230, Avg. Loss: 0.002348008006811142\n",
      "Epoch: 17, Batch: 240, Avg. Loss: 0.001870672881603241\n",
      "Epoch: 17, Batch: 250, Avg. Loss: 0.0024619574695825576\n",
      "Epoch: 17, Batch: 260, Avg. Loss: 0.0024135091304779053\n",
      "Epoch: 17, Batch: 270, Avg. Loss: 0.0018839859813451767\n",
      "Epoch: 17, Batch: 280, Avg. Loss: 0.0021734427809715273\n",
      "Epoch: 17, Batch: 290, Avg. Loss: 0.002404197156429291\n",
      "Epoch: 17, Batch: 300, Avg. Loss: 0.0025174275040626528\n",
      "Epoch: 17, Batch: 310, Avg. Loss: 0.0024911294132471083\n",
      "Epoch: 17, Batch: 320, Avg. Loss: 0.0024668914377689363\n",
      "Epoch: 17, Batch: 330, Avg. Loss: 0.003658836379647255\n",
      "Epoch: 17, Batch: 340, Avg. Loss: 0.002700367331504822\n",
      "Epoch: 18, Batch: 10, Avg. Loss: 0.002219531610608101\n",
      "Epoch: 18, Batch: 20, Avg. Loss: 0.0024148652255535125\n",
      "Epoch: 18, Batch: 30, Avg. Loss: 0.002063699960708618\n",
      "Epoch: 18, Batch: 40, Avg. Loss: 0.0021587710231542588\n",
      "Epoch: 18, Batch: 50, Avg. Loss: 0.002595244213938713\n",
      "Epoch: 18, Batch: 60, Avg. Loss: 0.0022467743456363676\n",
      "Epoch: 18, Batch: 70, Avg. Loss: 0.001990066111087799\n",
      "Epoch: 18, Batch: 80, Avg. Loss: 0.0022710789814591407\n",
      "Epoch: 18, Batch: 90, Avg. Loss: 0.0023338023722171784\n",
      "Epoch: 18, Batch: 100, Avg. Loss: 0.0023874176889657974\n",
      "Epoch: 18, Batch: 110, Avg. Loss: 0.002225757747888565\n",
      "Epoch: 18, Batch: 120, Avg. Loss: 0.002588541567325592\n",
      "Epoch: 18, Batch: 130, Avg. Loss: 0.0022933235317468643\n",
      "Epoch: 18, Batch: 140, Avg. Loss: 0.0030104146450757982\n",
      "Epoch: 18, Batch: 150, Avg. Loss: 0.00341057114303112\n",
      "Epoch: 18, Batch: 160, Avg. Loss: 0.0021562045961618422\n",
      "Epoch: 18, Batch: 170, Avg. Loss: 0.002801916912198067\n",
      "Epoch: 18, Batch: 180, Avg. Loss: 0.002378627896308899\n",
      "Epoch: 18, Batch: 190, Avg. Loss: 0.002183211833238602\n",
      "Epoch: 18, Batch: 200, Avg. Loss: 0.0024959287345409395\n",
      "Epoch: 18, Batch: 210, Avg. Loss: 0.002763208284974098\n",
      "Epoch: 18, Batch: 220, Avg. Loss: 0.002451474383473396\n",
      "Epoch: 18, Batch: 230, Avg. Loss: 0.0021496736258268356\n",
      "Epoch: 18, Batch: 240, Avg. Loss: 0.0019720097035169602\n"
     ]
    },
    {
     "name": "stdout",
     "output_type": "stream",
     "text": [
      "Epoch: 18, Batch: 250, Avg. Loss: 0.0020281647741794587\n",
      "Epoch: 18, Batch: 260, Avg. Loss: 0.0024609379768371583\n",
      "Epoch: 18, Batch: 270, Avg. Loss: 0.002496616244316101\n",
      "Epoch: 18, Batch: 280, Avg. Loss: 0.0024586116671562195\n",
      "Epoch: 18, Batch: 290, Avg. Loss: 0.002133138358592987\n",
      "Epoch: 18, Batch: 300, Avg. Loss: 0.0019581016302108764\n",
      "Epoch: 18, Batch: 310, Avg. Loss: 0.0020184660106897356\n",
      "Epoch: 18, Batch: 320, Avg. Loss: 0.0026357439905405045\n",
      "Epoch: 18, Batch: 330, Avg. Loss: 0.0031200793981552124\n",
      "Epoch: 18, Batch: 340, Avg. Loss: 0.0021557469815015793\n",
      "Epoch: 19, Batch: 10, Avg. Loss: 0.0022306813895702363\n",
      "Epoch: 19, Batch: 20, Avg. Loss: 0.0021548799723386763\n",
      "Epoch: 19, Batch: 30, Avg. Loss: 0.0023243909776210787\n",
      "Epoch: 19, Batch: 40, Avg. Loss: 0.0024930857717990877\n",
      "Epoch: 19, Batch: 50, Avg. Loss: 0.002774548277258873\n",
      "Epoch: 19, Batch: 60, Avg. Loss: 0.0019327979683876038\n",
      "Epoch: 19, Batch: 70, Avg. Loss: 0.0024971586465835573\n",
      "Epoch: 19, Batch: 80, Avg. Loss: 0.002209651380777359\n",
      "Epoch: 19, Batch: 90, Avg. Loss: 0.0020601280629634856\n"
     ]
    }
   ],
   "source": [
    "# train your network\n",
    "n_epochs = 20 # start small, and increase when you've decided on your model structure and hyperparams\n",
    "\n",
    "train_net(n_epochs)"
   ]
  },
  {
   "cell_type": "markdown",
   "metadata": {},
   "source": [
    "## Test data\n",
    "\n",
    "See how your model performs on previously unseen, test data. We've already loaded and transformed this data, similar to the training data. Next, run your trained model on these images to see what kind of keypoints are produced. You should be able to see if your model is fitting each new face it sees, if the points are distributed randomly, or if the points have actually overfitted the training data and do not generalize."
   ]
  },
  {
   "cell_type": "code",
   "execution_count": null,
   "metadata": {},
   "outputs": [],
   "source": [
    "# get a sample of test data again\n",
    "test_images, test_outputs, gt_pts = net_sample_output()\n",
    "\n",
    "print(test_images.data.size())\n",
    "print(test_outputs.data.size())\n",
    "print(gt_pts.size())"
   ]
  },
  {
   "cell_type": "code",
   "execution_count": null,
   "metadata": {},
   "outputs": [],
   "source": [
    "## TODO: visualize your test output\n",
    "# you can use the same function as before, by un-commenting the line below:\n",
    "\n",
    "visualize_output(test_images, test_outputs, gt_pts)\n"
   ]
  },
  {
   "cell_type": "markdown",
   "metadata": {},
   "source": [
    "Once you've found a good model (or two), save your model so you can load it and use it later!"
   ]
  },
  {
   "cell_type": "code",
   "execution_count": null,
   "metadata": {},
   "outputs": [],
   "source": [
    "## TODO: change the name to something uniqe for each new model\n",
    "model_dir = 'saved_models/'\n",
    "model_name = 'keypoints_model_1.pt'\n",
    "\n",
    "# after training, save your model parameters in the dir 'saved_models'\n",
    "torch.save(net.state_dict(), model_dir+model_name)"
   ]
  },
  {
   "cell_type": "markdown",
   "metadata": {},
   "source": [
    "After you've trained a well-performing model, answer the following questions so that we have some insight into your training and architecture selection process. Answering all questions is required to pass this project."
   ]
  },
  {
   "cell_type": "markdown",
   "metadata": {},
   "source": [
    "### Question 1: What optimization and loss functions did you choose and why?\n"
   ]
  },
  {
   "cell_type": "markdown",
   "metadata": {},
   "source": [
    "**Answer**: write your answer here (double click to edit this cell)"
   ]
  },
  {
   "cell_type": "markdown",
   "metadata": {},
   "source": [
    "### Question 2: What kind of network architecture did you start with and how did it change as you tried different architectures? Did you decide to add more convolutional layers or any layers to avoid overfitting the data?"
   ]
  },
  {
   "cell_type": "markdown",
   "metadata": {},
   "source": [
    "**Answer**: write your answer here"
   ]
  },
  {
   "cell_type": "markdown",
   "metadata": {},
   "source": [
    "### Question 3: How did you decide on the number of epochs and batch_size to train your model?"
   ]
  },
  {
   "cell_type": "markdown",
   "metadata": {},
   "source": [
    "**Answer**: write your answer here"
   ]
  },
  {
   "cell_type": "markdown",
   "metadata": {},
   "source": [
    "## Feature Visualization\n",
    "\n",
    "Sometimes, neural networks are thought of as a black box, given some input, they learn to produce some output. CNN's are actually learning to recognize a variety of spatial patterns and you can visualize what each convolutional layer has been trained to recognize by looking at the weights that make up each convolutional kernel and applying those one at a time to a sample image. This technique is called feature visualization and it's useful for understanding the inner workings of a CNN."
   ]
  },
  {
   "cell_type": "markdown",
   "metadata": {},
   "source": [
    "In the cell below, you can see how to extract a single filter (by index) from your first convolutional layer. The filter should appear as a grayscale grid."
   ]
  },
  {
   "cell_type": "code",
   "execution_count": null,
   "metadata": {},
   "outputs": [],
   "source": [
    "# Get the weights in the first conv layer, \"conv1\"\n",
    "# if necessary, change this to reflect the name of your first conv layer\n",
    "weights1 = net.conv1.weight.data\n",
    "\n",
    "w = weights1.numpy()\n",
    "\n",
    "print(w.shape)\n",
    "\n",
    "filter_index = 0\n",
    "\n",
    "print(w[filter_index][0])\n",
    "print(w[filter_index][0].shape)\n",
    "\n",
    "# display the filter weights\n",
    "plt.imshow(w[filter_index][0], cmap='gray')\n"
   ]
  },
  {
   "cell_type": "markdown",
   "metadata": {},
   "source": [
    "## Feature maps\n",
    "\n",
    "Each CNN has at least one convolutional layer that is composed of stacked filters (also known as convolutional kernels). As a CNN trains, it learns what weights to include in it's convolutional kernels and when these kernels are applied to some input image, they produce a set of **feature maps**. So, feature maps are just sets of filtered images; they are the images produced by applying a convolutional kernel to an input image. These maps show us the features that the different layers of the neural network learn to extract. For example, you might imagine a convolutional kernel that detects the vertical edges of a face or another one that detects the corners of eyes. You can see what kind of features each of these kernels detects by applying them to an image. One such example is shown below; from the way it brings out the lines in an the image, you might characterize this as an edge detection filter.\n",
    "\n",
    "<img src='images/feature_map_ex.png' width=50% height=50%/>\n",
    "\n",
    "\n",
    "Next, choose a test image and filter it with one of the convolutional kernels in your trained CNN; look at the filtered output to get an idea what that particular kernel detects.\n",
    "\n",
    "### TODO: Filter an image to see the effect of a convolutional kernel\n",
    "---"
   ]
  },
  {
   "cell_type": "code",
   "execution_count": null,
   "metadata": {},
   "outputs": [],
   "source": [
    "##TODO: load in and display any image from the transformed test dataset\n",
    "\n",
    "## TODO: Using cv's filter2D function,\n",
    "## apply a specific set of filter weights (like the one displayed above) to the test image\n",
    "import cv2\n",
    "\n",
    "test_images, test_outputs, gt_pts = net_sample_output()\n",
    "\n",
    "img_idx = 0\n",
    "img = test_images[img_idx].data\n",
    "img = img.numpy()\n",
    "img = np.transpose(img,(1,2,0))\n",
    "\n",
    "fig = plt.figure(figsize=(20, 20))\n",
    "ax = plt.subplot(1, 6, 1)\n",
    "print(img.shape)\n",
    "\n",
    "plt.imshow(np.squeeze(img),cmap='gray')\n",
    "for i in range(5):\n",
    "    img_filtered = cv2.filter2D(img,-1,w[i][0])\n",
    "    ax = plt.subplot(1, 6, i + 2)\n",
    "    plt.imshow(img_filtered)\n",
    "    \n",
    "plt.show()\n",
    "    \n",
    "    \n",
    "    "
   ]
  },
  {
   "cell_type": "markdown",
   "metadata": {},
   "source": [
    "### Question 4: Choose one filter from your trained CNN and apply it to a test image; what purpose do you think it plays? What kind of feature do you think it detects?\n"
   ]
  },
  {
   "cell_type": "markdown",
   "metadata": {},
   "source": [
    "**Answer**: (does it detect vertical lines or does it blur out noise, etc.) write your answer here"
   ]
  },
  {
   "cell_type": "markdown",
   "metadata": {},
   "source": [
    "---\n",
    "## Moving on!\n",
    "\n",
    "Now that you've defined and trained your model (and saved the best model), you are ready to move on to the last notebook, which combines a face detector with your saved model to create a facial keypoint detection system that can predict the keypoints on *any* face in an image!"
   ]
  }
 ],
 "metadata": {
  "kernelspec": {
   "display_name": "Python 3",
   "language": "python",
   "name": "python3"
  },
  "language_info": {
   "codemirror_mode": {
    "name": "ipython",
    "version": 3
   },
   "file_extension": ".py",
   "mimetype": "text/x-python",
   "name": "python",
   "nbconvert_exporter": "python",
   "pygments_lexer": "ipython3",
   "version": "3.6.2"
  }
 },
 "nbformat": 4,
 "nbformat_minor": 2
}
